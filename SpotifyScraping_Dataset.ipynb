{
 "cells": [
  {
   "cell_type": "markdown",
   "metadata": {},
   "source": [
    "# First Part Data Collection"
   ]
  },
  {
   "cell_type": "markdown",
   "metadata": {},
   "source": [
    "Spotify provides an API for those who wish gather data from their charts and songs. You can register and get the credentials for API in this link:<br>\n",
    "developer.spotify.com<br>\n",
    "Then, we have to scrap the URLs for each song listed on Top 200 Charts using BeautifulSoup. There are several guides for BeatifulSoup and Selenium. So, I’m going straight to code."
   ]
  },
  {
   "cell_type": "code",
   "execution_count": 2,
   "metadata": {},
   "outputs": [],
   "source": [
    "import SpotifyScraperdataset.head()import requests\n",
    "from bs4 import BeautifulSoup as bs\n",
    "import pandas as pd"
   ]
  },
  {
   "cell_type": "code",
   "execution_count": 6,
   "metadata": {},
   "outputs": [],
   "source": [
    "#Browser'ı başlatmak vb işlemler için gerekli kütüphane\n",
    "from selenium import webdriver \n",
    "#Sayfadaki elementlere ulaşmak için gerekli kütüphane\n",
    "from selenium.webdriver.common.by import By\n",
    "#Sayfanın yüklenmesini bekleyen kütüphane\n",
    "from selenium.webdriver.support.ui import WebDriverWait\n",
    "#Belli bir koşulun oluşmasını bekleyen kütüphane\n",
    "from selenium.webdriver.support import expected_conditions as EC\n",
    "#zaman işlemleri için\n",
    "import time\n",
    "#Tuşları seçtirmek için\n",
    "from selenium.webdriver.common.keys import Keys"
   ]
  },
  {
   "cell_type": "code",
   "execution_count": 7,
   "metadata": {},
   "outputs": [],
   "source": [
    "def init_driver():\n",
    "    driver = webdriver.Firefox()\n",
    "    driver.wait = WebDriverWait(driver, 5)\n",
    "    return driver"
   ]
  },
  {
   "cell_type": "markdown",
   "metadata": {},
   "source": [
    "I will use Chrome and set driver path."
   ]
  },
  {
   "cell_type": "code",
   "execution_count": 19,
   "metadata": {},
   "outputs": [],
   "source": [
    "from selenium import webdriver\n",
    "\n",
    "DRIVER_PATH = '/Users/adria/chromedriver'\n",
    "driver = webdriver.Chrome(executable_path=DRIVER_PATH)\n",
    "driver.get('https://google.com')"
   ]
  },
  {
   "cell_type": "markdown",
   "metadata": {},
   "source": [
    "Examining one of daily top songs charts."
   ]
  },
  {
   "cell_type": "code",
   "execution_count": null,
   "metadata": {},
   "outputs": [],
   "source": [
    "from selenium import webdriver\n",
    "from selenium.webdriver.chrome.options import Options\n",
    "\n",
    "options = Options()\n",
    "options.headless = True\n",
    "options.add_argument(\"--window-size=1920,1200\")\n",
    "\n",
    "driver = webdriver.Chrome(options=options, executable_path=DRIVER_PATH)\n",
    "driver.get(\"https://spotifycharts.com/regional/ar/daily/2021-05-07\")\n",
    "\n"
   ]
  },
  {
   "cell_type": "markdown",
   "metadata": {},
   "source": [
    "Chart table image contains the URL for each song.\n"
   ]
  },
  {
   "cell_type": "code",
   "execution_count": null,
   "metadata": {},
   "outputs": [],
   "source": [
    "find_href=driver.find_elements_by_xpath('//td[@class=\"chart-table-image\"]/a')\n",
    "for my_href in find_href:\n",
    "    print(my_href.get_attribute(\"href\"))"
   ]
  },
  {
   "cell_type": "markdown",
   "metadata": {},
   "source": [
    "Creating lists for country and dates. In this analysis, we will use top 200 charts from end of months between January 2017 and April 2021."
   ]
  },
  {
   "cell_type": "code",
   "execution_count": 111,
   "metadata": {},
   "outputs": [],
   "source": [
    "countrylist=[\"global\",\"us\" ,\"gb\",\"ae\",\"ar\",\"at\",\"au\",\"be\",\"bg\",\"bo\",\"br\",\"ca\",\"ch\",\"cl\",\"co\",\"cr\",\"cy\",\"cz\",\"de\",\"dk\",\"do\",\"ec\",\"ee\",\"eg\",\"es\",\"fi\",\"fr\",\"gr\",\"gt\",\"hk\",\"hn\",\"hu\",\"id\",\"ie\",\"il\",\"in\",\"is\",\"it\",\"jp\",\"kr\",\"lt\",\"lu\",\"lv\",\"ma\",\"mx\",\"my\",\"ni\",\"nl\",\"no\",\"nz\",\"pa\",\"pe\",\"ph\",\"pl\",\"pt\",\"py\",\"ro\",\"ru\",\"sa\",\"se\",\"sg\",\"sk\",\"sv\",\"th\",\"tr\",\"tw\",\"ua\",\"uy\",\"vn\",\"za\"]\n",
    "datelist=['2017-01-31','2017-02-28','2017-03-31','2017-04-30','2017-05-31','2017-06-30','2017-07-31','2017-08-31','2017-09-30','2017-10-31','2017-11-30','2017-12-31','2018-01-31','2018-02-28','2018-03-31','2018-04-30','2018-05-31','2018-06-30','2018-07-31','2018-08-31','2018-09-30','2018-10-31','2018-11-30','2018-12-31','2019-01-31','2019-02-28','2019-03-31','2019-04-30','2019-05-31','2019-06-30','2019-07-31','2019-08-31','2019-09-30','2019-10-31','2019-11-30','2019-12-31','2020-01-31','2020-02-29','2020-03-31','2020-04-30','2020-05-31','2020-06-30','2020-07-31','2020-08-31','2020-09-30','2020-10-31','2020-11-30','2020-12-31','2021-01-31','2021-02-28','2021-03-31','2021-04-30']"
   ]
  },
  {
   "cell_type": "code",
   "execution_count": 96,
   "metadata": {},
   "outputs": [
    {
     "data": {
      "text/plain": [
       "'2018-08-12'"
      ]
     },
     "execution_count": 96,
     "metadata": {},
     "output_type": "execute_result"
    }
   ],
   "source": [
    "\"https://spotifycharts.com/regional/ar/daily/2021-05-07\""
   ]
  },
  {
   "cell_type": "code",
   "execution_count": 97,
   "metadata": {},
   "outputs": [
    {
     "data": {
      "text/plain": [
       "'https://spotifycharts.com/regional/us/daily/2021-05-07'"
      ]
     },
     "execution_count": 97,
     "metadata": {},
     "output_type": "execute_result"
    }
   ],
   "source": [
    "link=str(\"https://spotifycharts.com/regional/\")+str(countrylist[1])+str(\"/daily/\")+str(datelist[1])"
   ]
  },
  {
   "cell_type": "markdown",
   "metadata": {},
   "source": [
    "Downloading URLs via for loop.\n"
   ]
  },
  {
   "cell_type": "code",
   "execution_count": null,
   "metadata": {},
   "outputs": [],
   "source": [
    "for i in range(len(countrylist)):\n",
    "    for j in range(len(datelist)):\n",
    "        link=str(\"https://spotifycharts.com/regional/\")+str(countrylist[i])+str(\"/daily/\")+str(datelist[j])\n",
    "        print(link)"
   ]
  },
  {
   "cell_type": "code",
   "execution_count": 257,
   "metadata": {},
   "outputs": [],
   "source": [
    "from selenium import webdriver\n",
    "\n",
    "DRIVER_PATH = '/Users/adria/chromedriver'\n",
    "driver = webdriver.Chrome(executable_path=DRIVER_PATH)\n",
    "driver.get('https://google.com')"
   ]
  },
  {
   "cell_type": "code",
   "execution_count": 258,
   "metadata": {},
   "outputs": [],
   "source": [
    "countrylist=[\"global\",\"us\" ,\"gb\",\"ae\",\"ar\",\"at\",\"au\",\"be\",\"bg\",\"bo\",\"br\",\"ca\",\"ch\",\"cl\",\"co\",\"cr\",\"cy\",\"cz\",\"de\",\"dk\",\"do\",\"ec\",\"ee\",\"eg\",\"es\",\"fi\",\"fr\",\"gr\",\"gt\",\"hk\",\"hn\",\"hu\",\"id\",\"ie\",\"il\",\"in\",\"is\",\"it\",\"jp\",\"lt\",\"lu\",\"lv\",\"ma\",\"mx\",\"my\",\"ni\",\"nl\",\"no\",\"nz\",\"pa\",\"pe\",\"ph\",\"pl\",\"pt\",\"py\",\"ro\",\"ru\",\"sa\",\"se\",\"sg\",\"sk\",\"sv\",\"th\",\"tr\",\"tw\",\"ua\",\"uy\",\"vn\",\"za\"]\n",
    "datelist=['2017-01-31','2017-02-28','2017-03-31','2017-04-30','2017-05-31','2017-06-30','2017-07-31','2017-08-31','2017-09-30','2017-10-31','2017-11-30','2017-12-31','2018-01-31','2018-02-28','2018-03-31','2018-04-30','2018-05-31','2018-06-30','2018-07-31','2018-08-31','2018-09-30','2018-10-31','2018-11-30','2018-12-31','2019-01-31','2019-02-28','2019-03-31','2019-04-30','2019-05-31','2019-06-30','2019-07-31','2019-08-31','2019-09-30','2019-10-31','2019-11-30','2019-12-31','2020-01-31','2020-02-29','2020-03-31','2020-04-30','2020-05-31','2020-06-30','2020-07-31','2020-08-31','2020-09-30','2020-10-31','2020-11-30','2020-12-31','2021-01-31','2021-02-28','2021-03-31','2021-04-30']"
   ]
  },
  {
   "cell_type": "code",
   "execution_count": null,
   "metadata": {},
   "outputs": [],
   "source": [
    "from selenium import webdriver\n",
    "from selenium.webdriver.chrome.options import Options\n",
    "\n",
    "track=[]\n",
    "streams=[]\n",
    "position=[]\n",
    "date=[]\n",
    "country=[]\n",
    "url=[]\n",
    "for i in range(len(countrylist)):\n",
    "    for j in range(len(datelist)):\n",
    "        link=str(\"https://spotifycharts.com/regional/\")+str(countrylist[i])+str(\"/daily/\")+str(datelist[j])\n",
    "        print(link)\n",
    "        options = Options()\n",
    "        options.headless = True\n",
    "        options.add_argument(\"--window-size=1920,1200\")\n",
    "\n",
    "        driver = webdriver.Chrome(options=options, executable_path=DRIVER_PATH)\n",
    "        driver.get(link)\n",
    "\n",
    "        h1 = driver.find_elements_by_class_name('chart-table-track')\n",
    "        for a in range(1,len(h1)):\n",
    "            b=h1[a].text\n",
    "            track.append(b)\n",
    "\n",
    "        h2 = driver.find_elements_by_class_name('chart-table-streams')\n",
    "        for a in range(1,len(h2)):\n",
    "            b=h2[a].text\n",
    "            streams.append(b)\n",
    "\n",
    "        h3 = driver.find_elements_by_class_name('chart-table-position')\n",
    "        for a in h3:\n",
    "            b=a.text\n",
    "            position.append(b)\n",
    "            \n",
    "        find_href=driver.find_elements_by_xpath('//td[@class=\"chart-table-image\"]/a')\n",
    "        for my_href in find_href:\n",
    "            url.append(my_href.get_attribute(\"href\"))\n",
    "\n",
    "        for a in range(1,len(h2)):\n",
    "            country.append(countrylist[i])\n",
    "\n",
    "        for a in range(1,len(h2)):\n",
    "            date.append(datelist[j])\n",
    "\n",
    "        driver.quit()\n",
    "\n",
    "df2 = pd.DataFrame(list(zip(date,country,track, streams,position,url)),columns =['Date','Country','Track Name', 'Streams','Position','URL'])\n",
    "df2\n",
    "        "
   ]
  },
  {
   "cell_type": "markdown",
   "metadata": {},
   "source": [
    "Creating dataframe and save it as csv file."
   ]
  },
  {
   "cell_type": "code",
   "execution_count": 260,
   "metadata": {},
   "outputs": [
    {
     "data": {
      "text/html": [
       "<div>\n",
       "<style scoped>\n",
       "    .dataframe tbody tr th:only-of-type {\n",
       "        vertical-align: middle;\n",
       "    }\n",
       "\n",
       "    .dataframe tbody tr th {\n",
       "        vertical-align: top;\n",
       "    }\n",
       "\n",
       "    .dataframe thead th {\n",
       "        text-align: right;\n",
       "    }\n",
       "</style>\n",
       "<table border=\"1\" class=\"dataframe\">\n",
       "  <thead>\n",
       "    <tr style=\"text-align: right;\">\n",
       "      <th></th>\n",
       "      <th>Date</th>\n",
       "      <th>Country</th>\n",
       "      <th>Track Name</th>\n",
       "      <th>Streams</th>\n",
       "      <th>Position</th>\n",
       "      <th>URL</th>\n",
       "    </tr>\n",
       "  </thead>\n",
       "  <tbody>\n",
       "    <tr>\n",
       "      <th>0</th>\n",
       "      <td>2017-01-31</td>\n",
       "      <td>global</td>\n",
       "      <td>Shape of You by Ed Sheeran</td>\n",
       "      <td>7,419,406</td>\n",
       "      <td>1</td>\n",
       "      <td>https://open.spotify.com/track/7qiZfU4dY1lWllz...</td>\n",
       "    </tr>\n",
       "    <tr>\n",
       "      <th>1</th>\n",
       "      <td>2017-01-31</td>\n",
       "      <td>global</td>\n",
       "      <td>Paris by The Chainsmokers</td>\n",
       "      <td>4,115,100</td>\n",
       "      <td>2</td>\n",
       "      <td>https://open.spotify.com/track/72jbDTw1piOOj77...</td>\n",
       "    </tr>\n",
       "    <tr>\n",
       "      <th>2</th>\n",
       "      <td>2017-01-31</td>\n",
       "      <td>global</td>\n",
       "      <td>I Don’t Wanna Live Forever (Fifty Shades Darke...</td>\n",
       "      <td>3,792,324</td>\n",
       "      <td>3</td>\n",
       "      <td>https://open.spotify.com/track/3NdDpSvN911VPGi...</td>\n",
       "    </tr>\n",
       "    <tr>\n",
       "      <th>3</th>\n",
       "      <td>2017-01-31</td>\n",
       "      <td>global</td>\n",
       "      <td>Castle on the Hill by Ed Sheeran</td>\n",
       "      <td>3,438,970</td>\n",
       "      <td>4</td>\n",
       "      <td>https://open.spotify.com/track/6PCUP3dWmTjcTtX...</td>\n",
       "    </tr>\n",
       "    <tr>\n",
       "      <th>4</th>\n",
       "      <td>2017-01-31</td>\n",
       "      <td>global</td>\n",
       "      <td>Despacito (Featuring Daddy Yankee) by Luis Fonsi</td>\n",
       "      <td>3,221,839</td>\n",
       "      <td>5</td>\n",
       "      <td>https://open.spotify.com/track/4aWmUDTfIPGksMN...</td>\n",
       "    </tr>\n",
       "    <tr>\n",
       "      <th>...</th>\n",
       "      <td>...</td>\n",
       "      <td>...</td>\n",
       "      <td>...</td>\n",
       "      <td>...</td>\n",
       "      <td>...</td>\n",
       "      <td>...</td>\n",
       "    </tr>\n",
       "    <tr>\n",
       "      <th>567908</th>\n",
       "      <td>2021-04-30</td>\n",
       "      <td>za</td>\n",
       "      <td>The Woo (feat. 50 Cent &amp; Roddy Ricch) by Pop S...</td>\n",
       "      <td>3,052</td>\n",
       "      <td>196</td>\n",
       "      <td>https://open.spotify.com/track/1H7KnK26kc1Yyel...</td>\n",
       "    </tr>\n",
       "    <tr>\n",
       "      <th>567909</th>\n",
       "      <td>2021-04-30</td>\n",
       "      <td>za</td>\n",
       "      <td>Ride It by Regard</td>\n",
       "      <td>3,048</td>\n",
       "      <td>197</td>\n",
       "      <td>https://open.spotify.com/track/2tnVG71enUj33Ic...</td>\n",
       "    </tr>\n",
       "    <tr>\n",
       "      <th>567910</th>\n",
       "      <td>2021-04-30</td>\n",
       "      <td>za</td>\n",
       "      <td>S'bali by Intaba Yase Dubai</td>\n",
       "      <td>3,003</td>\n",
       "      <td>198</td>\n",
       "      <td>https://open.spotify.com/track/3iCc4j2qlTvUmsV...</td>\n",
       "    </tr>\n",
       "    <tr>\n",
       "      <th>567911</th>\n",
       "      <td>2021-04-30</td>\n",
       "      <td>za</td>\n",
       "      <td>SAD! by XXXTENTACION</td>\n",
       "      <td>2,967</td>\n",
       "      <td>199</td>\n",
       "      <td>https://open.spotify.com/track/3ee8Jmje8o58CHK...</td>\n",
       "    </tr>\n",
       "    <tr>\n",
       "      <th>567912</th>\n",
       "      <td>2021-04-30</td>\n",
       "      <td>za</td>\n",
       "      <td>Mama by Boohle, Josiah De Disciple</td>\n",
       "      <td>2,963</td>\n",
       "      <td>200</td>\n",
       "      <td>https://open.spotify.com/track/3ZgAIOJFQfCNSZn...</td>\n",
       "    </tr>\n",
       "  </tbody>\n",
       "</table>\n",
       "<p>567913 rows × 6 columns</p>\n",
       "</div>"
      ],
      "text/plain": [
       "              Date Country                                         Track Name  \\\n",
       "0       2017-01-31  global                         Shape of You by Ed Sheeran   \n",
       "1       2017-01-31  global                          Paris by The Chainsmokers   \n",
       "2       2017-01-31  global  I Don’t Wanna Live Forever (Fifty Shades Darke...   \n",
       "3       2017-01-31  global                   Castle on the Hill by Ed Sheeran   \n",
       "4       2017-01-31  global   Despacito (Featuring Daddy Yankee) by Luis Fonsi   \n",
       "...            ...     ...                                                ...   \n",
       "567908  2021-04-30      za  The Woo (feat. 50 Cent & Roddy Ricch) by Pop S...   \n",
       "567909  2021-04-30      za                                  Ride It by Regard   \n",
       "567910  2021-04-30      za                        S'bali by Intaba Yase Dubai   \n",
       "567911  2021-04-30      za                               SAD! by XXXTENTACION   \n",
       "567912  2021-04-30      za                 Mama by Boohle, Josiah De Disciple   \n",
       "\n",
       "          Streams Position                                                URL  \n",
       "0       7,419,406        1  https://open.spotify.com/track/7qiZfU4dY1lWllz...  \n",
       "1       4,115,100        2  https://open.spotify.com/track/72jbDTw1piOOj77...  \n",
       "2       3,792,324        3  https://open.spotify.com/track/3NdDpSvN911VPGi...  \n",
       "3       3,438,970        4  https://open.spotify.com/track/6PCUP3dWmTjcTtX...  \n",
       "4       3,221,839        5  https://open.spotify.com/track/4aWmUDTfIPGksMN...  \n",
       "...           ...      ...                                                ...  \n",
       "567908      3,052      196  https://open.spotify.com/track/1H7KnK26kc1Yyel...  \n",
       "567909      3,048      197  https://open.spotify.com/track/2tnVG71enUj33Ic...  \n",
       "567910      3,003      198  https://open.spotify.com/track/3iCc4j2qlTvUmsV...  \n",
       "567911      2,967      199  https://open.spotify.com/track/3ee8Jmje8o58CHK...  \n",
       "567912      2,963      200  https://open.spotify.com/track/3ZgAIOJFQfCNSZn...  \n",
       "\n",
       "[567913 rows x 6 columns]"
      ]
     },
     "execution_count": 260,
     "metadata": {},
     "output_type": "execute_result"
    }
   ],
   "source": [
    "df2 = pd.DataFrame(list(zip(date,country,track, streams,position,url)),columns =['Date','Country','Track Name', 'Streams','Position','URL'])\n",
    "df2"
   ]
  },
  {
   "cell_type": "code",
   "execution_count": 261,
   "metadata": {},
   "outputs": [],
   "source": [
    "df2.to_csv('hamdata.csv', index=False) "
   ]
  },
  {
   "cell_type": "code",
   "execution_count": 121,
   "metadata": {},
   "outputs": [],
   "source": [
    "find_href=driver.find_elements_by_xpath('//td[@class=\"chart-table-image\"]/a')\n",
    "for my_href in find_href:\n",
    "    print(my_href.get_attribute(\"href\"))"
   ]
  },
  {
   "cell_type": "markdown",
   "metadata": {},
   "source": [
    "Now, we will utilize a Python Library called Spotipy in order to gather attributes regarding song such as danceability, tempo, artist popularity etc.\n",
    "<br>\n",
    "We will import it and use credentials which we obtained from SpotifyDevelopers."
   ]
  },
  {
   "cell_type": "code",
   "execution_count": null,
   "metadata": {
    "scrolled": false
   },
   "outputs": [],
   "source": [
    "urls=df2[\"URL\"].unique().tolist()\n",
    "df2=pd.read_csv(\"hamdata.csv\")\n",
    "\n",
    "danceability={}\n",
    "energy={}\n",
    "key={}\n",
    "loudness={}\n",
    "mode={}\n",
    "speechiness={}\n",
    "acousticness={}\n",
    "instrumentalness={}\n",
    "liveness={}\n",
    "valence={}\n",
    "tempo={}\n",
    "artistid={}\n",
    "artistgenre={}\n",
    "artistpopularity={}\n",
    "\n",
    "for url in urls:\n",
    "    print(url)\n",
    "    client_id = \"02eec1d768bd4656be610f09cec03be0\"\n",
    "    client_secret = \"85a2b535947d481bbd6b98a2a9f91e03\"\n",
    "    client_credentials_manager = SpotifyClientCredentials(client_id=client_id, client_secret=client_secret)\n",
    "    sp = spotipy.Spotify(client_credentials_manager=client_credentials_manager) #spotify object to access API\n",
    "    \n",
    "    #audio features\n",
    "    audiofeatures = sp.audio_features(url)\n",
    "    danceability[url]=audiofeatures[0][\"danceability\"]\n",
    "    energy[url]=audiofeatures[0][\"energy\"]\n",
    "    key[url]=audiofeatures[0][\"key\"]\n",
    "    loudness[url]=audiofeatures[0][\"loudness\"]\n",
    "    mode[url]=audiofeatures[0][\"mode\"]\n",
    "    speechiness[url]=audiofeatures[0][\"speechiness\"]\n",
    "    acousticness[url]=audiofeatures[0][\"acousticness\"]\n",
    "    instrumentalness[url]=audiofeatures[0][\"instrumentalness\"]\n",
    "    liveness[url]=audiofeatures[0][\"liveness\"]\n",
    "    valence[url]=audiofeatures[0][\"valence\"]\n",
    "    tempo[url]=audiofeatures[0][\"tempo\"]\n",
    "    \n",
    "    #genre    \n",
    "    artistid[url]=[sp.track(url)[\"artists\"][i][\"id\"] for i in range(len(sp.track(url)[\"artists\"]))]\n",
    "    \n",
    "    for i in artistid.values():\n",
    "        for id in i:\n",
    "            artistgenre[id]=sp.artist(id)[\"genres\"]\n",
    "            \n",
    "    for i in artistid.values():\n",
    "        for id in i:\n",
    "            artistpopularity[id]=sp.artist(id)[\"popularity\"]\n",
    "        "
   ]
  },
  {
   "cell_type": "markdown",
   "metadata": {},
   "source": [
    "Gathering dictionaries to build final dataframe."
   ]
  },
  {
   "cell_type": "code",
   "execution_count": null,
   "metadata": {},
   "outputs": [],
   "source": [
    "Spotify = pd.DataFrame(data=urls, columns=['URL'])"
   ]
  },
  {
   "cell_type": "code",
   "execution_count": 149,
   "metadata": {},
   "outputs": [],
   "source": [
    "Spotify[\"ArtistID\"]=\"\"\n",
    "for k,v in artistid.items():\n",
    "    idx=Spotify[Spotify.URL==k].index[0]\n",
    "    Spotify.iloc[idx,1]=v[0]\n",
    "\n"
   ]
  },
  {
   "cell_type": "code",
   "execution_count": 151,
   "metadata": {},
   "outputs": [],
   "source": [
    "Spotify2=Spotify.copy()"
   ]
  },
  {
   "cell_type": "code",
   "execution_count": 155,
   "metadata": {},
   "outputs": [],
   "source": [
    "Spotify2[\"ArtistGenre\"]=\"\"\n",
    "for k,v in artistgenre.items():\n",
    "    idx=Spotify2[Spotify2.ArtistID==k].index\n",
    "    for i in idx:\n",
    "        Spotify2.iloc[i,2]=str(v)\n",
    "\n"
   ]
  },
  {
   "cell_type": "code",
   "execution_count": null,
   "metadata": {},
   "outputs": [],
   "source": [
    "Spotify3=Spotify2.copy()"
   ]
  },
  {
   "cell_type": "code",
   "execution_count": 179,
   "metadata": {},
   "outputs": [
    {
     "name": "stdout",
     "output_type": "stream",
     "text": [
      "danceability\n",
      "energy\n",
      "key\n",
      "loudness\n",
      "mode\n",
      "speechiness\n",
      "acousticness\n",
      "instrumentalness\n",
      "liveness\n",
      "valence\n",
      "tempo\n"
     ]
    }
   ],
   "source": [
    "features=[danceability,energy,key,loudness,mode,speechiness,acousticness,instrumentalness,liveness,valence,tempo]\n",
    "featuresColumns=['danceability','energy','key','loudness','mode','speechiness','acousticness','instrumentalness','liveness','valence','tempo']\n",
    "c=2\n",
    "d=0\n",
    "for feature in features:\n",
    "    print(featuresColumns[d])\n",
    "    c+=1\n",
    "    Spotify3[featuresColumns[d]]=\"\"\n",
    "    for k,v in feature.items():\n",
    "        idx=Spotify2[Spotify2.URL==k].index[0]\n",
    "        Spotify3.iloc[idx,c]=str(v)\n",
    "    d+=1"
   ]
  },
  {
   "cell_type": "code",
   "execution_count": 181,
   "metadata": {},
   "outputs": [],
   "source": [
    "Spotify4=Spotify3.copy()"
   ]
  },
  {
   "cell_type": "code",
   "execution_count": 240,
   "metadata": {},
   "outputs": [],
   "source": [
    "Spotify4[\"ArtistPopularity\"]=\"\"\n",
    "for k,v in artistpopularity.items():\n",
    "    idx=Spotify4[Spotify4.ArtistID==k].index\n",
    "    for i in idx:\n",
    "        Spotify4.iloc[i,14]=str(v)\n"
   ]
  },
  {
   "cell_type": "code",
   "execution_count": null,
   "metadata": {},
   "outputs": [],
   "source": [
    "dataset=pd.merge( df2, Spotify4, how=\"inner\", on='URL')"
   ]
  },
  {
   "cell_type": "code",
   "execution_count": 244,
   "metadata": {},
   "outputs": [
    {
     "data": {
      "text/html": [
       "<div>\n",
       "<style scoped>\n",
       "    .dataframe tbody tr th:only-of-type {\n",
       "        vertical-align: middle;\n",
       "    }\n",
       "\n",
       "    .dataframe tbody tr th {\n",
       "        vertical-align: top;\n",
       "    }\n",
       "\n",
       "    .dataframe thead th {\n",
       "        text-align: right;\n",
       "    }\n",
       "</style>\n",
       "<table border=\"1\" class=\"dataframe\">\n",
       "  <thead>\n",
       "    <tr style=\"text-align: right;\">\n",
       "      <th></th>\n",
       "      <th>Date</th>\n",
       "      <th>Country</th>\n",
       "      <th>Track Name</th>\n",
       "      <th>Streams</th>\n",
       "      <th>Position</th>\n",
       "      <th>URL</th>\n",
       "      <th>ArtistID</th>\n",
       "      <th>ArtistGenre</th>\n",
       "      <th>danceability</th>\n",
       "      <th>energy</th>\n",
       "      <th>key</th>\n",
       "      <th>loudness</th>\n",
       "      <th>mode</th>\n",
       "      <th>speechiness</th>\n",
       "      <th>acousticness</th>\n",
       "      <th>instrumentalness</th>\n",
       "      <th>liveness</th>\n",
       "      <th>valence</th>\n",
       "      <th>tempo</th>\n",
       "      <th>ArtistPopularity</th>\n",
       "    </tr>\n",
       "  </thead>\n",
       "  <tbody>\n",
       "    <tr>\n",
       "      <th>0</th>\n",
       "      <td>2017-01-31</td>\n",
       "      <td>global</td>\n",
       "      <td>Shape of You by Ed Sheeran</td>\n",
       "      <td>7,419,406</td>\n",
       "      <td>1</td>\n",
       "      <td>https://open.spotify.com/track/7qiZfU4dY1lWllz...</td>\n",
       "      <td>6eUKZXaKkcviH0Ku9w2n3V</td>\n",
       "      <td>['pop', 'uk pop']</td>\n",
       "      <td>0.825</td>\n",
       "      <td>0.652</td>\n",
       "      <td>1</td>\n",
       "      <td>-3.183</td>\n",
       "      <td>0</td>\n",
       "      <td>0.0802</td>\n",
       "      <td>0.581</td>\n",
       "      <td>0</td>\n",
       "      <td>0.0931</td>\n",
       "      <td>0.931</td>\n",
       "      <td>95.977</td>\n",
       "      <td>93</td>\n",
       "    </tr>\n",
       "    <tr>\n",
       "      <th>1</th>\n",
       "      <td>2017-02-28</td>\n",
       "      <td>global</td>\n",
       "      <td>Shape of You by Ed Sheeran</td>\n",
       "      <td>7,059,172</td>\n",
       "      <td>1</td>\n",
       "      <td>https://open.spotify.com/track/7qiZfU4dY1lWllz...</td>\n",
       "      <td>6eUKZXaKkcviH0Ku9w2n3V</td>\n",
       "      <td>['pop', 'uk pop']</td>\n",
       "      <td>0.825</td>\n",
       "      <td>0.652</td>\n",
       "      <td>1</td>\n",
       "      <td>-3.183</td>\n",
       "      <td>0</td>\n",
       "      <td>0.0802</td>\n",
       "      <td>0.581</td>\n",
       "      <td>0</td>\n",
       "      <td>0.0931</td>\n",
       "      <td>0.931</td>\n",
       "      <td>95.977</td>\n",
       "      <td>93</td>\n",
       "    </tr>\n",
       "    <tr>\n",
       "      <th>2</th>\n",
       "      <td>2017-03-31</td>\n",
       "      <td>global</td>\n",
       "      <td>Shape of You by Ed Sheeran</td>\n",
       "      <td>6,935,206</td>\n",
       "      <td>1</td>\n",
       "      <td>https://open.spotify.com/track/7qiZfU4dY1lWllz...</td>\n",
       "      <td>6eUKZXaKkcviH0Ku9w2n3V</td>\n",
       "      <td>['pop', 'uk pop']</td>\n",
       "      <td>0.825</td>\n",
       "      <td>0.652</td>\n",
       "      <td>1</td>\n",
       "      <td>-3.183</td>\n",
       "      <td>0</td>\n",
       "      <td>0.0802</td>\n",
       "      <td>0.581</td>\n",
       "      <td>0</td>\n",
       "      <td>0.0931</td>\n",
       "      <td>0.931</td>\n",
       "      <td>95.977</td>\n",
       "      <td>93</td>\n",
       "    </tr>\n",
       "    <tr>\n",
       "      <th>3</th>\n",
       "      <td>2017-04-30</td>\n",
       "      <td>global</td>\n",
       "      <td>Shape of You by Ed Sheeran</td>\n",
       "      <td>4,881,603</td>\n",
       "      <td>2</td>\n",
       "      <td>https://open.spotify.com/track/7qiZfU4dY1lWllz...</td>\n",
       "      <td>6eUKZXaKkcviH0Ku9w2n3V</td>\n",
       "      <td>['pop', 'uk pop']</td>\n",
       "      <td>0.825</td>\n",
       "      <td>0.652</td>\n",
       "      <td>1</td>\n",
       "      <td>-3.183</td>\n",
       "      <td>0</td>\n",
       "      <td>0.0802</td>\n",
       "      <td>0.581</td>\n",
       "      <td>0</td>\n",
       "      <td>0.0931</td>\n",
       "      <td>0.931</td>\n",
       "      <td>95.977</td>\n",
       "      <td>93</td>\n",
       "    </tr>\n",
       "    <tr>\n",
       "      <th>4</th>\n",
       "      <td>2017-06-30</td>\n",
       "      <td>global</td>\n",
       "      <td>Shape of You by Ed Sheeran</td>\n",
       "      <td>3,712,311</td>\n",
       "      <td>5</td>\n",
       "      <td>https://open.spotify.com/track/7qiZfU4dY1lWllz...</td>\n",
       "      <td>6eUKZXaKkcviH0Ku9w2n3V</td>\n",
       "      <td>['pop', 'uk pop']</td>\n",
       "      <td>0.825</td>\n",
       "      <td>0.652</td>\n",
       "      <td>1</td>\n",
       "      <td>-3.183</td>\n",
       "      <td>0</td>\n",
       "      <td>0.0802</td>\n",
       "      <td>0.581</td>\n",
       "      <td>0</td>\n",
       "      <td>0.0931</td>\n",
       "      <td>0.931</td>\n",
       "      <td>95.977</td>\n",
       "      <td>93</td>\n",
       "    </tr>\n",
       "  </tbody>\n",
       "</table>\n",
       "</div>"
      ],
      "text/plain": [
       "         Date Country                  Track Name    Streams  Position  \\\n",
       "0  2017-01-31  global  Shape of You by Ed Sheeran  7,419,406         1   \n",
       "1  2017-02-28  global  Shape of You by Ed Sheeran  7,059,172         1   \n",
       "2  2017-03-31  global  Shape of You by Ed Sheeran  6,935,206         1   \n",
       "3  2017-04-30  global  Shape of You by Ed Sheeran  4,881,603         2   \n",
       "4  2017-06-30  global  Shape of You by Ed Sheeran  3,712,311         5   \n",
       "\n",
       "                                                 URL                ArtistID  \\\n",
       "0  https://open.spotify.com/track/7qiZfU4dY1lWllz...  6eUKZXaKkcviH0Ku9w2n3V   \n",
       "1  https://open.spotify.com/track/7qiZfU4dY1lWllz...  6eUKZXaKkcviH0Ku9w2n3V   \n",
       "2  https://open.spotify.com/track/7qiZfU4dY1lWllz...  6eUKZXaKkcviH0Ku9w2n3V   \n",
       "3  https://open.spotify.com/track/7qiZfU4dY1lWllz...  6eUKZXaKkcviH0Ku9w2n3V   \n",
       "4  https://open.spotify.com/track/7qiZfU4dY1lWllz...  6eUKZXaKkcviH0Ku9w2n3V   \n",
       "\n",
       "         ArtistGenre danceability energy key loudness mode speechiness  \\\n",
       "0  ['pop', 'uk pop']        0.825  0.652   1   -3.183    0      0.0802   \n",
       "1  ['pop', 'uk pop']        0.825  0.652   1   -3.183    0      0.0802   \n",
       "2  ['pop', 'uk pop']        0.825  0.652   1   -3.183    0      0.0802   \n",
       "3  ['pop', 'uk pop']        0.825  0.652   1   -3.183    0      0.0802   \n",
       "4  ['pop', 'uk pop']        0.825  0.652   1   -3.183    0      0.0802   \n",
       "\n",
       "  acousticness instrumentalness liveness valence   tempo ArtistPopularity  \n",
       "0        0.581                0   0.0931   0.931  95.977               93  \n",
       "1        0.581                0   0.0931   0.931  95.977               93  \n",
       "2        0.581                0   0.0931   0.931  95.977               93  \n",
       "3        0.581                0   0.0931   0.931  95.977               93  \n",
       "4        0.581                0   0.0931   0.931  95.977               93  "
      ]
     },
     "execution_count": 244,
     "metadata": {},
     "output_type": "execute_result"
    }
   ],
   "source": [
    "dataset.head()"
   ]
  }
 ],
 "metadata": {
  "kernelspec": {
   "display_name": "Python 3 (ipykernel)",
   "language": "python",
   "name": "python3"
  },
  "language_info": {
   "codemirror_mode": {
    "name": "ipython",
    "version": 3
   },
   "file_extension": ".py",
   "mimetype": "text/x-python",
   "name": "python",
   "nbconvert_exporter": "python",
   "pygments_lexer": "ipython3",
   "version": "3.9.12"
  }
 },
 "nbformat": 4,
 "nbformat_minor": 4
}
